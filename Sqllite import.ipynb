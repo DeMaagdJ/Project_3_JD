{
 "cells": [
  {
   "cell_type": "code",
   "execution_count": 19,
   "metadata": {},
   "outputs": [],
   "source": [
    "import sqlite3\n",
    "import pandas as pd"
   ]
  },
  {
   "cell_type": "code",
   "execution_count": 20,
   "metadata": {},
   "outputs": [],
   "source": [
    "hotel_geoapify_data = (\"../Justin's_project_3_files/hotel_geoapfy_api_call.csv\")\n",
    "sqldf_hotels_geo = pd.read_csv(hotel_geoapify_data).drop([\t'Unnamed: 0'], axis = 1)\n",
    "\n",
    "temp_meteostat_data = (\"../Justin's_project_3_files/meteostat_data.csv\")\n",
    "sqldf_meteostat_data = pd.read_csv(temp_meteostat_data).drop(['tmin', 'tmax', 'wpgt',\n",
    "'index', 'Unnamed: 0', 'tsun', 'tavg_cel.1', 'wspd_km.1', 'tvag_farh.1', 'tavg', 'wspd', 'wspd_miles.1'], axis = 1)\n",
    "\n",
    "tickets_data = (\"..//Justin's_project_3_files/tickets.xlsx\")\n",
    "sql_tickets_data = pd.read_excel(tickets_data).drop([\t'Unnamed: 0'], axis = 1)\n",
    "\n"
   ]
  },
  {
   "cell_type": "code",
   "execution_count": 21,
   "metadata": {},
   "outputs": [],
   "source": [
    "conn = sqlite3.connect('project3.db')"
   ]
  },
  {
   "cell_type": "code",
   "execution_count": 22,
   "metadata": {},
   "outputs": [],
   "source": [
    "sqldf_hotels_geo.to_sql(name = \"hotels_geo\", con=conn, if_exists= 'replace', index=False)\n",
    "sqldf_meteostat_data.to_sql(name = \"meteostat_data\", con=conn, if_exists= 'replace', index=False)\n",
    "sql_tickets_data.to_sql(name = \"tickets\", con=conn, if_exists= 'replace', index=False)\n",
    "\n",
    "conn.commit()"
   ]
  },
  {
   "cell_type": "code",
   "execution_count": null,
   "metadata": {},
   "outputs": [],
   "source": []
  }
 ],
 "metadata": {
  "kernelspec": {
   "display_name": "PythonData",
   "language": "python",
   "name": "python3"
  },
  "language_info": {
   "codemirror_mode": {
    "name": "ipython",
    "version": 3
   },
   "file_extension": ".py",
   "mimetype": "text/x-python",
   "name": "python",
   "nbconvert_exporter": "python",
   "pygments_lexer": "ipython3",
   "version": "3.7.7"
  },
  "orig_nbformat": 4
 },
 "nbformat": 4,
 "nbformat_minor": 2
}
